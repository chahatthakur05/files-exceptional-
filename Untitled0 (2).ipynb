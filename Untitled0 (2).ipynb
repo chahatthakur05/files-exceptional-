{
  "nbformat": 4,
  "nbformat_minor": 0,
  "metadata": {
    "colab": {
      "provenance": []
    },
    "kernelspec": {
      "name": "python3",
      "display_name": "Python 3"
    },
    "language_info": {
      "name": "python"
    }
  },
  "cells": [
    {
      "cell_type": "markdown",
      "source": [
        "\n",
        "### ***files & exceptional handling assignment***\n",
        "1. What is the difference between interpreted and compiled languages?\n",
        "Interpreted languages like Python execute code line by line at runtime. Compiled languages like C++ convert code to machine code beforehand.\n",
        "\n",
        "2. What is exception handling in Python?\n",
        "Exception handling in Python is a way to handle runtime errors using try, except, else, and finally blocks.\n",
        "\n",
        "3. What is the purpose of the finally block in exception handling?\n",
        "The finally block executes regardless of whether an exception occurred or not, often used for cleanup.\n",
        "\n",
        "4. What is logging in Python?\n",
        "Logging in Python is a way to track events happening during execution using the logging module.\n",
        "\n",
        "5. *What is the significance of the __del__ method in Python?*\n",
        "The __del__ method is a destructor called when an object is about to be destroyed.\n",
        "\n",
        "6. What is the difference between import and from ... import in Python?\n",
        "import module imports the whole module. from module import func imports a specific function.\n",
        "\n",
        "7. How can you handle multiple exceptions in Python?\n",
        "You can handle multiple exceptions using multiple except blocks or by specifying exceptions in a tuple.\n",
        "\n",
        "8. What is the purpose of the with statement when handling files in Python?\n",
        "The with statement ensures files are properly closed after use.\n",
        "\n",
        "9. What is the difference between multithreading and multiprocessing?\n",
        "Multithreading is for concurrent execution in a single process. Multiprocessing uses separate processes for parallelism.\n",
        "\n",
        "10. What are the advantages of using logging in a program?\n",
        "Logging helps with debugging, tracking events, and understanding program flow.\n",
        "\n",
        "11. What is memory management in Python?\n",
        "Python's memory management is handled by a private heap managed by the interpreter.\n",
        "\n",
        "12. What are the basic steps involved in exception handling in Python?\n",
        "Use try to wrap code, except to handle exceptions, optionally else and finally.\n",
        "\n",
        "13. Why is memory management important in Python?\n",
        "Memory management ensures efficient use of resources and prevents leaks.\n",
        "\n",
        "14. What is the role of try and except in exception handling?\n",
        "try wraps code that might raise an exception. except handles the exception.\n",
        "\n",
        "15. How does Python's garbage collection system work?\n",
        "Python's garbage collector reclaims memory from unused objects using reference counting and cyclic garbage collection.\n",
        "\n",
        "16. What is the purpose of the else block in exception handling?\n",
        "The else block runs if no exception occurs in the try block.\n",
        "\n",
        "17. What are the common logging levels in Python?\n",
        "Common levels are DEBUG, INFO, WARNING, ERROR, CRITICAL.\n",
        "\n",
        "18. What is the difference between os.fork() and multiprocessing in Python?\n",
        "os.fork() creates a child process (Unix-specific). Multiprocessing is a cross-platform module for parallelism.\n",
        "\n",
        "19. What is the importance of closing a file in Python?\n",
        "Closing files frees resources and ensures data is written to disk.\n"
      ],
      "metadata": {
        "id": "TCQr_wi3XqYF"
      }
    },
    {
      "cell_type": "code",
      "execution_count": 2,
      "metadata": {
        "id": "bNdZ7sYSXjsN"
      },
      "outputs": [],
      "source": [
        "#1\n",
        "with open('example.txt', 'w') as file:\n",
        "    file.write('Hello, World!')\n",
        "\n"
      ]
    },
    {
      "cell_type": "code",
      "source": [
        "#2\n",
        "with open('example.txt', 'r') as file:\n",
        "    for line in file:\n",
        "        print(line.strip())\n"
      ],
      "metadata": {
        "colab": {
          "base_uri": "https://localhost:8080/"
        },
        "id": "h0en5AgZYk9r",
        "outputId": "4defdb09-7897-453f-c5df-fe8124597489"
      },
      "execution_count": 3,
      "outputs": [
        {
          "output_type": "stream",
          "name": "stdout",
          "text": [
            "Hello, World!\n"
          ]
        }
      ]
    },
    {
      "cell_type": "code",
      "source": [
        "#3\n",
        "try:\n",
        "    with open('nonexistent.txt', 'r') as file:\n",
        "        print(file.read())\n",
        "except FileNotFoundError:\n",
        "    print(\"File not found.\")\n"
      ],
      "metadata": {
        "colab": {
          "base_uri": "https://localhost:8080/"
        },
        "id": "GP7f3zTlYt5f",
        "outputId": "62bec863-5f34-4fdc-f1ea-6afc11517d06"
      },
      "execution_count": 4,
      "outputs": [
        {
          "output_type": "stream",
          "name": "stdout",
          "text": [
            "File not found.\n"
          ]
        }
      ]
    },
    {
      "cell_type": "code",
      "source": [
        "#4\n",
        "with open('source.txt', 'r') as source, open('destination.txt', 'w') as destination:\n",
        "    destination.write(source.read())\n"
      ],
      "metadata": {
        "colab": {
          "base_uri": "https://localhost:8080/",
          "height": 176
        },
        "id": "skjEHPRrY3I-",
        "outputId": "1143d5fd-62b0-4db3-f792-800bb500c6cd"
      },
      "execution_count": 5,
      "outputs": [
        {
          "output_type": "error",
          "ename": "FileNotFoundError",
          "evalue": "[Errno 2] No such file or directory: 'source.txt'",
          "traceback": [
            "\u001b[0;31m---------------------------------------------------------------------------\u001b[0m",
            "\u001b[0;31mFileNotFoundError\u001b[0m                         Traceback (most recent call last)",
            "\u001b[0;32m/tmp/ipython-input-2036537772.py\u001b[0m in \u001b[0;36m<cell line: 0>\u001b[0;34m()\u001b[0m\n\u001b[1;32m      1\u001b[0m \u001b[0;31m#4\u001b[0m\u001b[0;34m\u001b[0m\u001b[0;34m\u001b[0m\u001b[0m\n\u001b[0;32m----> 2\u001b[0;31m \u001b[0;32mwith\u001b[0m \u001b[0mopen\u001b[0m\u001b[0;34m(\u001b[0m\u001b[0;34m'source.txt'\u001b[0m\u001b[0;34m,\u001b[0m \u001b[0;34m'r'\u001b[0m\u001b[0;34m)\u001b[0m \u001b[0;32mas\u001b[0m \u001b[0msource\u001b[0m\u001b[0;34m,\u001b[0m \u001b[0mopen\u001b[0m\u001b[0;34m(\u001b[0m\u001b[0;34m'destination.txt'\u001b[0m\u001b[0;34m,\u001b[0m \u001b[0;34m'w'\u001b[0m\u001b[0;34m)\u001b[0m \u001b[0;32mas\u001b[0m \u001b[0mdestination\u001b[0m\u001b[0;34m:\u001b[0m\u001b[0;34m\u001b[0m\u001b[0;34m\u001b[0m\u001b[0m\n\u001b[0m\u001b[1;32m      3\u001b[0m     \u001b[0mdestination\u001b[0m\u001b[0;34m.\u001b[0m\u001b[0mwrite\u001b[0m\u001b[0;34m(\u001b[0m\u001b[0msource\u001b[0m\u001b[0;34m.\u001b[0m\u001b[0mread\u001b[0m\u001b[0;34m(\u001b[0m\u001b[0;34m)\u001b[0m\u001b[0;34m)\u001b[0m\u001b[0;34m\u001b[0m\u001b[0;34m\u001b[0m\u001b[0m\n",
            "\u001b[0;31mFileNotFoundError\u001b[0m: [Errno 2] No such file or directory: 'source.txt'"
          ]
        }
      ]
    },
    {
      "cell_type": "code",
      "source": [
        "#5\n",
        "try:\n",
        "    result = 1 / 0\n",
        "except ZeroDivisionError:\n",
        "    print(\"Cannot divide by zero.\")\n"
      ],
      "metadata": {
        "colab": {
          "base_uri": "https://localhost:8080/"
        },
        "id": "cbi-He0hZDK3",
        "outputId": "203da880-cca2-49da-fc22-1bd10ff468a1"
      },
      "execution_count": 7,
      "outputs": [
        {
          "output_type": "stream",
          "name": "stdout",
          "text": [
            "Cannot divide by zero.\n"
          ]
        }
      ]
    },
    {
      "cell_type": "code",
      "source": [
        "#6\n",
        "import logging\n",
        "logging.basicConfig(filename='error.log', level=logging.ERROR)\n",
        "try:\n",
        "    result = 1 / 0\n",
        "except ZeroDivisionError:\n",
        "    logging.error(\"Division by zero occurred.\")\n"
      ],
      "metadata": {
        "colab": {
          "base_uri": "https://localhost:8080/"
        },
        "id": "-h18lexNZOKi",
        "outputId": "33ffe8c9-b1a2-4f44-9fcf-81b9a979c9c4"
      },
      "execution_count": 6,
      "outputs": [
        {
          "output_type": "stream",
          "name": "stderr",
          "text": [
            "ERROR:root:Division by zero occurred.\n"
          ]
        }
      ]
    },
    {
      "cell_type": "code",
      "source": [
        "#7\n",
        "mport logging\n",
        "logging.basicConfig(level=logging.DEBUG)\n",
        "logging.info('Info message')\n",
        "logging.error('Error message')\n",
        "logging.warning('Warning message')\n"
      ],
      "metadata": {
        "colab": {
          "base_uri": "https://localhost:8080/",
          "height": 106
        },
        "id": "PhdQgTV1ZcqS",
        "outputId": "0f9e89ea-2024-4534-8161-071fa4015b0a"
      },
      "execution_count": 8,
      "outputs": [
        {
          "output_type": "error",
          "ename": "SyntaxError",
          "evalue": "invalid syntax (ipython-input-717477799.py, line 2)",
          "traceback": [
            "\u001b[0;36m  File \u001b[0;32m\"/tmp/ipython-input-717477799.py\"\u001b[0;36m, line \u001b[0;32m2\u001b[0m\n\u001b[0;31m    mport logging\u001b[0m\n\u001b[0m          ^\u001b[0m\n\u001b[0;31mSyntaxError\u001b[0m\u001b[0;31m:\u001b[0m invalid syntax\n"
          ]
        }
      ]
    },
    {
      "cell_type": "code",
      "source": [
        "#8\n",
        "try:\n",
        "    with open('nonexistent.txt', 'r') as file:\n",
        "        print(file.read())\n",
        "except IOError as e:\n",
        "    print(f\"Error opening file: {e}\")\n"
      ],
      "metadata": {
        "colab": {
          "base_uri": "https://localhost:8080/"
        },
        "id": "tcvgQYuFZqni",
        "outputId": "c0734a1a-a3e6-4d99-a2b5-5e24dbd59c4e"
      },
      "execution_count": 9,
      "outputs": [
        {
          "output_type": "stream",
          "name": "stdout",
          "text": [
            "Error opening file: [Errno 2] No such file or directory: 'nonexistent.txt'\n"
          ]
        }
      ]
    },
    {
      "cell_type": "code",
      "source": [
        "#9\n",
        "with open('example.txt', 'r') as file:\n",
        "    lines = [line.strip() for line in file]\n"
      ],
      "metadata": {
        "id": "IIZAnfSiZwWw"
      },
      "execution_count": 10,
      "outputs": []
    },
    {
      "cell_type": "code",
      "source": [
        "#10\n",
        "Open the file in append mode 'a':\n",
        "with open('example.txt', 'a') as file:\n",
        "    file.write('Appended text')"
      ],
      "metadata": {
        "colab": {
          "base_uri": "https://localhost:8080/",
          "height": 106
        },
        "id": "YJVzxKvyZ563",
        "outputId": "2cc95432-b87d-47ae-d2ec-1c886405bafc"
      },
      "execution_count": 11,
      "outputs": [
        {
          "output_type": "error",
          "ename": "SyntaxError",
          "evalue": "invalid syntax (ipython-input-4065487894.py, line 2)",
          "traceback": [
            "\u001b[0;36m  File \u001b[0;32m\"/tmp/ipython-input-4065487894.py\"\u001b[0;36m, line \u001b[0;32m2\u001b[0m\n\u001b[0;31m    Open the file in append mode 'a':\u001b[0m\n\u001b[0m         ^\u001b[0m\n\u001b[0;31mSyntaxError\u001b[0m\u001b[0;31m:\u001b[0m invalid syntax\n"
          ]
        }
      ]
    },
    {
      "cell_type": "markdown",
      "source": [
        "\n",
        "#"
      ],
      "metadata": {
        "id": "iaAajCjKZaBJ"
      }
    },
    {
      "cell_type": "code",
      "source": [
        "#7"
      ],
      "metadata": {
        "id": "Uot6JFkwZTsk"
      },
      "execution_count": null,
      "outputs": []
    },
    {
      "cell_type": "markdown",
      "source": [],
      "metadata": {
        "id": "VV9a876rYbgy"
      }
    }
  ]
}